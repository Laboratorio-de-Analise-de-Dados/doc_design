{
 "cells": [
  {
   "cell_type": "markdown",
   "metadata": {
    "id": "NZ2h1fddQy--"
   },
   "source": [
    "# Importações de dados brutos"
   ]
  },
  {
   "cell_type": "code",
   "execution_count": null,
   "metadata": {
    "id": "ZUfRu9XmIXQR"
   },
   "outputs": [
    {
     "name": "stdout",
     "output_type": "stream",
     "text": [
      "-------------\n",
      "-=< Lista >=-\n",
      "-------------\n",
      "0 -> printLinha()\n",
      "1 -> printLis()\n",
      "2 -> printDic()\n",
      "3 -> timeProcess()\n",
      "4 -> import_started()\n",
      "5 -> img_save()\n",
      "6 -> setup_img_save()\n",
      "7 -> mask_corr_graphic()\n",
      "8 -> structured_confusion()\n"
     ]
    }
   ],
   "source": [
    "from util import *\n",
    "meus_uteis()\n",
    "\n",
    "import os\n",
    "\n",
    "import joblib\n",
    "\n",
    "import pandas as pd\n",
    "import numpy as np\n",
    "\n",
    "import seaborn as sns\n",
    "import matplotlib.pyplot as plt\n",
    "\n",
    "# from scipy import stats\n",
    "from scipy.stats import mannwhitneyu, normaltest, ranksums, chisquare\n",
    "from statsmodels.stats.weightstats import zconfint, DescrStatsW, ztest"
   ]
  },
  {
   "cell_type": "code",
   "execution_count": null,
   "metadata": {
    "colab": {
     "base_uri": "https://localhost:8080/",
     "height": 368
    },
    "id": "QlQl7R8pIXQV",
    "outputId": "a3c4cec7-a952-42e1-9b7b-c38fddcb8bfd"
   },
   "outputs": [],
   "source": [
    "df = pd.read_csv('./data/dados_completos.csv')\n",
    "df.set_index(df.id, inplace=True)\n",
    "del df[\"id\"]\n",
    "df.head()"
   ]
  },
  {
   "cell_type": "code",
   "execution_count": null,
   "metadata": {
    "id": "sKHJMa64IXQU"
   },
   "outputs": [],
   "source": [
    "colunas = df.columns\n",
    "perguntas = {\n",
    "    colunas[4 + 1]: '1) Na imagem, o quão claramente os elementos são distinguíveis?',\n",
    "    colunas[4 + 2]: '2) O quão visualmente proeminentes são os elementos da imagem?',\n",
    "    colunas[4 + 3]: '8) Existem elementos da imagem que requerem descrição adicional?',\n",
    "    colunas[4 + 4]: '3) O quão eficiente são os elementos da imagem na representação dos dados?',\n",
    "    colunas[4 + 5]: '4) O quão útil é a aplicação de uma imagem esquemática – desenho científico ou graphic abstract para representar os dados?',\n",
    "    colunas[4 + 6]: '5) O quanto a imagem é esteticamente bem elaborada?',\n",
    "    colunas[4 + 7]: '9) A imagem apresentada faz você experimentar uma nova fonte de dados?',\n",
    "    colunas[4 + 8]: '6) Classifique o quanto a imagem facilitou a compreensão do conteúdo da informação.',\n",
    "    colunas[4 + 9]: '7) Classifique o quanto a imagem despertou o seu interesse pelo conteúdo.',\n",
    "    colunas[4 + 10]: 'Qual o seu grau de formação acadêmica?',\n",
    "    colunas[4 + 11]: 'Área de formação?',\n",
    "}\n",
    "perguntas"
   ]
  },
  {
   "cell_type": "markdown",
   "metadata": {
    "id": "e52cEnxdhNrP"
   },
   "source": [
    "# Geral"
   ]
  },
  {
   "cell_type": "code",
   "execution_count": null,
   "metadata": {
    "colab": {
     "base_uri": "https://localhost:8080/",
     "height": 368
    },
    "id": "wK41TgK5Sf0T",
    "outputId": "ef118e0b-46a4-4741-9eb6-c8e3e3146100"
   },
   "outputs": [],
   "source": [
    "df.head()"
   ]
  },
  {
   "cell_type": "code",
   "execution_count": null,
   "metadata": {
    "colab": {
     "base_uri": "https://localhost:8080/",
     "height": 300
    },
    "id": "KDitJnDrWEgq",
    "outputId": "e2c7f785-bf08-4958-f081-6a32c4ce82b2"
   },
   "outputs": [],
   "source": [
    "df.describe()"
   ]
  },
  {
   "cell_type": "code",
   "execution_count": null,
   "metadata": {
    "colab": {
     "base_uri": "https://localhost:8080/"
    },
    "id": "T5c2_cMkWGGv",
    "outputId": "3e5d10a4-6f0b-4be4-e874-1cd55dd3e977"
   },
   "outputs": [],
   "source": [
    "df.info()"
   ]
  },
  {
   "cell_type": "markdown",
   "metadata": {
    "id": "krcR78kdf8dG"
   },
   "source": [
    "# Agrupando"
   ]
  },
  {
   "cell_type": "markdown",
   "metadata": {
    "id": "QS1AnGJifwc9"
   },
   "source": [
    "## Analisando a pergunta Descrição"
   ]
  },
  {
   "cell_type": "code",
   "execution_count": null,
   "metadata": {
    "colab": {
     "base_uri": "https://localhost:8080/",
     "height": 238
    },
    "id": "1vEKE5VYWHeu",
    "outputId": "7b920b37-4fea-4223-bb1e-f7bffe173308"
   },
   "outputs": [],
   "source": [
    "colunas_perguntas = df.columns[[7,11,14,15,16]]\n",
    "df_quantitativo = df[colunas_perguntas]\n",
    "df_quantitativo.head()"
   ]
  },
  {
   "cell_type": "code",
   "execution_count": null,
   "metadata": {
    "colab": {
     "base_uri": "https://localhost:8080/",
     "height": 175
    },
    "id": "vYhcSu01dObV",
    "outputId": "6298504f-b643-4344-e469-3b5d7f6ef7e4"
   },
   "outputs": [],
   "source": [
    "df_descricao = df_quantitativo[colunas_perguntas[[0,4]]].value_counts(normalize=False).reset_index()\n",
    "df_descricao"
   ]
  },
  {
   "cell_type": "code",
   "execution_count": null,
   "metadata": {
    "colab": {
     "base_uri": "https://localhost:8080/"
    },
    "id": "7i4Yuw4c4IaB",
    "outputId": "2aaabfbd-eebc-49a2-98b8-1b294be0a6d9"
   },
   "outputs": [],
   "source": [
    "dic_descricao = {\n",
    "    df_descricao.iloc[0,1]: [df_descricao.iloc[0,2],df_descricao.iloc[3,2]],\n",
    "    df_descricao.iloc[1,1]: [df_descricao.iloc[1,2],df_descricao.iloc[2,2]],\n",
    "}\n",
    "dic_descricao"
   ]
  },
  {
   "cell_type": "code",
   "execution_count": null,
   "metadata": {
    "colab": {
     "base_uri": "https://localhost:8080/",
     "height": 112
    },
    "id": "zMNxvSRofA-O",
    "outputId": "9adf06a9-32a8-46ae-c04a-1b842b50f834"
   },
   "outputs": [],
   "source": [
    "index=['Sim','Não']\n",
    "df_descricao_compila = pd.DataFrame(data=np.nan, index=index, columns=dic_descricao.keys())\n",
    "df_descricao_compila['Pesquisador'] = dic_descricao['Pesquisador']\n",
    "df_descricao_compila['Designer'] = dic_descricao['Designer']\n",
    "df_descricao_compila"
   ]
  },
  {
   "cell_type": "code",
   "execution_count": null,
   "metadata": {
    "colab": {
     "base_uri": "https://localhost:8080/"
    },
    "id": "eNH8kIg5-ZKb",
    "outputId": "ac550a71-819a-4637-d541-e95885d72589"
   },
   "outputs": [],
   "source": [
    "frequencias = [[df_descricao_compila.iloc[0,0],df_descricao_compila.iloc[1,0]],\n",
    "              [df_descricao_compila.iloc[0,1],df_descricao_compila.iloc[1,1]]]\n",
    "frequencias"
   ]
  },
  {
   "cell_type": "code",
   "execution_count": null,
   "metadata": {
    "colab": {
     "base_uri": "https://localhost:8080/",
     "height": 112
    },
    "id": "9NohFwh0BYMD",
    "outputId": "76fb4440-43e1-431c-86d2-757e73d91783"
   },
   "outputs": [],
   "source": [
    "_, p_valor = chisquare(f_exp=df_descricao_compila['Pesquisador'], f_obs=df_descricao_compila['Designer'])\n",
    "if p_valor < .001:\n",
    "    p_valor = '<0.001'\n",
    "\n",
    "df_descricao_compila['p-valor'] = (p_valor, np.nan)\n",
    "df_descricao_compila.to_csv('df_descricao_compila.csv')\n",
    "df_descricao_compila"
   ]
  },
  {
   "cell_type": "markdown",
   "metadata": {
    "id": "dm-GWBK5f02P"
   },
   "source": [
    "## Analisando a pergunta Fonte"
   ]
  },
  {
   "cell_type": "code",
   "execution_count": null,
   "metadata": {
    "colab": {
     "base_uri": "https://localhost:8080/",
     "height": 238
    },
    "id": "AsgkfGErAoy_",
    "outputId": "795bfccb-be86-451e-d9be-95278a6b0799"
   },
   "outputs": [],
   "source": [
    "colunas_perguntas = df.columns[[7,11,14,15,16]]\n",
    "df_quantitativo = df[colunas_perguntas]\n",
    "df_quantitativo.head()"
   ]
  },
  {
   "cell_type": "code",
   "execution_count": null,
   "metadata": {
    "colab": {
     "base_uri": "https://localhost:8080/",
     "height": 175
    },
    "id": "ScyEgLFA5mjo",
    "outputId": "c56e90f1-7c1a-48b0-8e3b-4ff205315789"
   },
   "outputs": [],
   "source": [
    "df_fonte = df_quantitativo[colunas_perguntas[[1,4]]].value_counts(normalize=False).reset_index()\n",
    "df_fonte"
   ]
  },
  {
   "cell_type": "code",
   "execution_count": null,
   "metadata": {
    "colab": {
     "base_uri": "https://localhost:8080/"
    },
    "id": "1FqYfgWi5quN",
    "outputId": "f4d81d14-16d5-4056-86d0-0327f2a7fcea"
   },
   "outputs": [],
   "source": [
    "dic_fonte = {\n",
    "    df_fonte.iloc[0,1]: [df_fonte.iloc[0,2],df_fonte.iloc[3,2]],\n",
    "    df_fonte.iloc[1,1]: [df_fonte.iloc[1,2],df_fonte.iloc[2,2]],\n",
    "}\n",
    "dic_fonte"
   ]
  },
  {
   "cell_type": "code",
   "execution_count": null,
   "metadata": {
    "colab": {
     "base_uri": "https://localhost:8080/",
     "height": 112
    },
    "id": "ildvwEZ551ZF",
    "outputId": "3b37e1c4-7da0-412b-f551-5affed487a37"
   },
   "outputs": [],
   "source": [
    "index=['Sim','Não']\n",
    "df_fonte_compila = pd.DataFrame(data=np.nan, index=index, columns=dic_fonte.keys())\n",
    "df_fonte_compila['Pesquisador'] = dic_fonte['Pesquisador']\n",
    "df_fonte_compila['Designer'] = dic_fonte['Designer']\n",
    "df_fonte_compila = df_fonte_compila[df_fonte_compila.columns[[1,0]]]\n",
    "df_fonte_compila"
   ]
  },
  {
   "cell_type": "code",
   "execution_count": null,
   "metadata": {
    "colab": {
     "base_uri": "https://localhost:8080/"
    },
    "id": "BxkjpMKV6CSN",
    "outputId": "6869e854-0e3c-43a3-bb94-67b93c780236"
   },
   "outputs": [],
   "source": [
    "frequencias = [[df_fonte_compila.iloc[0,0],df_fonte_compila.iloc[1,0]],\n",
    "              [df_fonte_compila.iloc[0,1],df_fonte_compila.iloc[1,1]]]\n",
    "frequencias"
   ]
  },
  {
   "cell_type": "code",
   "execution_count": null,
   "metadata": {
    "colab": {
     "base_uri": "https://localhost:8080/",
     "height": 112
    },
    "id": "PhVCFlPm6ORH",
    "outputId": "56962c1c-3806-4833-b692-3eb38f3ff002"
   },
   "outputs": [],
   "source": [
    "_, p_valor = chisquare(f_exp=df_fonte_compila['Pesquisador'], f_obs=df_fonte_compila['Designer'])\n",
    "if p_valor < .001:\n",
    "  p_valor = '<0.001'\n",
    "\n",
    "df_fonte_compila['p-valor'] = (p_valor, np.nan)\n",
    "df_fonte_compila.to_csv('df_fonte_compila.csv')\n",
    "df_fonte_compila"
   ]
  },
  {
   "cell_type": "code",
   "execution_count": null,
   "metadata": {
    "id": "lqBZx8ek79nt"
   },
   "outputs": [],
   "source": []
  }
 ],
 "metadata": {
  "colab": {
   "name": "03_analysis_estatística_Qualitativa_2022_02_22.ipynb",
   "provenance": []
  },
  "kernelspec": {
   "display_name": "Python 3 (ipykernel)",
   "language": "python",
   "name": "python3"
  },
  "language_info": {
   "codemirror_mode": {
    "name": "ipython",
    "version": 3
   },
   "file_extension": ".py",
   "mimetype": "text/x-python",
   "name": "python",
   "nbconvert_exporter": "python",
   "pygments_lexer": "ipython3",
   "version": "3.7.9"
  }
 },
 "nbformat": 4,
 "nbformat_minor": 4
}
